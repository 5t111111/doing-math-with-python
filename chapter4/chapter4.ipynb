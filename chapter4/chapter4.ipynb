{
 "cells": [
  {
   "cell_type": "markdown",
   "metadata": {},
   "source": [
    "# 4章 SymPyで代数と式を計算する"
   ]
  },
  {
   "cell_type": "markdown",
   "metadata": {},
   "source": [
    "## 4.1 式の記号と記号演算を定義する"
   ]
  },
  {
   "cell_type": "code",
   "execution_count": 1,
   "metadata": {
    "collapsed": false
   },
   "outputs": [
    {
     "data": {
      "text/plain": [
       "2*x + 1"
      ]
     },
     "execution_count": 1,
     "metadata": {},
     "output_type": "execute_result"
    }
   ],
   "source": [
    "from sympy import Symbol\n",
    "\n",
    "x = Symbol('x')\n",
    "x + x + 1  "
   ]
  },
  {
   "cell_type": "code",
   "execution_count": 2,
   "metadata": {
    "collapsed": false
   },
   "outputs": [
    {
     "data": {
      "text/plain": [
       "'x'"
      ]
     },
     "execution_count": 2,
     "metadata": {},
     "output_type": "execute_result"
    }
   ],
   "source": [
    "x.name"
   ]
  },
  {
   "cell_type": "code",
   "execution_count": 3,
   "metadata": {
    "collapsed": true
   },
   "outputs": [],
   "source": [
    "from sympy import symbols\n",
    "\n",
    "x, y, z = symbols('x,y,z')"
   ]
  },
  {
   "cell_type": "code",
   "execution_count": 4,
   "metadata": {
    "collapsed": false
   },
   "outputs": [
    {
     "data": {
      "text/plain": [
       "2*x*y"
      ]
     },
     "execution_count": 4,
     "metadata": {},
     "output_type": "execute_result"
    }
   ],
   "source": [
    "x = Symbol('x')\n",
    "y = Symbol('y')\n",
    "s = x * y + x * y\n",
    "s"
   ]
  },
  {
   "cell_type": "code",
   "execution_count": 5,
   "metadata": {
    "collapsed": false
   },
   "outputs": [
    {
     "data": {
      "text/plain": [
       "2*x**2"
      ]
     },
     "execution_count": 5,
     "metadata": {},
     "output_type": "execute_result"
    }
   ],
   "source": [
    "p = x * (x + x)\n",
    "p"
   ]
  },
  {
   "cell_type": "code",
   "execution_count": 6,
   "metadata": {
    "collapsed": false
   },
   "outputs": [
    {
     "data": {
      "text/plain": [
       "(x + 2)*(x + 3)"
      ]
     },
     "execution_count": 6,
     "metadata": {},
     "output_type": "execute_result"
    }
   ],
   "source": [
    "p = (x + 2) * (x + 3)\n",
    "p"
   ]
  },
  {
   "cell_type": "markdown",
   "metadata": {
    "collapsed": true
   },
   "source": [
    "### 4.2.1 式の因数分解と展開"
   ]
  },
  {
   "cell_type": "code",
   "execution_count": 3,
   "metadata": {
    "collapsed": false
   },
   "outputs": [
    {
     "data": {
      "text/plain": [
       "(x - y)*(x + y)"
      ]
     },
     "execution_count": 3,
     "metadata": {},
     "output_type": "execute_result"
    }
   ],
   "source": [
    "from sympy import Symbol\n",
    "from sympy import factor\n",
    "\n",
    "x = Symbol('x')\n",
    "y = Symbol('y')\n",
    "\n",
    "expr = x ** 2 - y ** 2\n",
    "factor(expr)"
   ]
  },
  {
   "cell_type": "code",
   "execution_count": 5,
   "metadata": {
    "collapsed": false
   },
   "outputs": [
    {
     "data": {
      "text/plain": [
       "x**2 - y**2"
      ]
     },
     "execution_count": 5,
     "metadata": {},
     "output_type": "execute_result"
    }
   ],
   "source": [
    "from sympy import expand\n",
    "\n",
    "factors = factor(expr)\n",
    "expand(factors)"
   ]
  },
  {
   "cell_type": "code",
   "execution_count": 8,
   "metadata": {
    "collapsed": false
   },
   "outputs": [
    {
     "data": {
      "text/plain": [
       "(x + y)**3"
      ]
     },
     "execution_count": 8,
     "metadata": {},
     "output_type": "execute_result"
    }
   ],
   "source": [
    "expr = x ** 3 + 3 * x ** 2 * y + 3 * x * y ** 2 + y ** 3\n",
    "factors = factor(expr)\n",
    "factors"
   ]
  },
  {
   "cell_type": "code",
   "execution_count": null,
   "metadata": {
    "collapsed": true
   },
   "outputs": [],
   "source": [
    "expr = x + y + x * y\n",
    "factor(expr)"
   ]
  },
  {
   "cell_type": "markdown",
   "metadata": {},
   "source": [
    "### 4.2.2 プリティプリント"
   ]
  },
  {
   "cell_type": "code",
   "execution_count": 4,
   "metadata": {
    "collapsed": true
   },
   "outputs": [],
   "source": [
    "from sympy import Symbol\n",
    "from sympy import factor\n",
    "\n",
    "x = Symbol('x')\n",
    "y = Symbol('y')\n",
    "\n",
    "expr = x*x + 2*x*y + y*y"
   ]
  },
  {
   "cell_type": "code",
   "execution_count": 5,
   "metadata": {
    "collapsed": false
   },
   "outputs": [
    {
     "name": "stdout",
     "output_type": "stream",
     "text": [
      "x**2 + 2*x*y + y**2\n"
     ]
    }
   ],
   "source": [
    "print(expr)"
   ]
  },
  {
   "cell_type": "code",
   "execution_count": 8,
   "metadata": {
    "collapsed": false
   },
   "outputs": [
    {
     "name": "stdout",
     "output_type": "stream",
     "text": [
      "   2          \n",
      "2⋅x  + 2⋅x + 1\n"
     ]
    }
   ],
   "source": [
    "from sympy import pprint\n",
    "\n",
    "expr = 1 + 2*x + 2*x**2\n",
    "pprint(expr, use_unicode=True)"
   ]
  },
  {
   "cell_type": "code",
   "execution_count": 11,
   "metadata": {
    "collapsed": false
   },
   "outputs": [
    {
     "name": "stdout",
     "output_type": "stream",
     "text": [
      "             2\n",
      "1 + 2⋅x + 2⋅x \n"
     ]
    }
   ],
   "source": [
    "from sympy import init_printing\n",
    "\n",
    "init_printing(order='rev-lex')\n",
    "pprint(expr, use_unicode=True)"
   ]
  },
  {
   "cell_type": "markdown",
   "metadata": {},
   "source": [
    "#### 4.2.2.1 級数を出力する"
   ]
  },
  {
   "cell_type": "code",
   "execution_count": 21,
   "metadata": {
    "collapsed": false
   },
   "outputs": [
    {
     "name": "stdout",
     "output_type": "stream",
     "text": [
      "Enter the number of terms you want in the series: 5\n",
      "     2    3    4    5\n",
      "    x    x    x    x \n",
      "x + ── + ── + ── + ──\n",
      "    2    3    4    5 \n"
     ]
    }
   ],
   "source": [
    "'''\n",
    "Print the series:\n",
    "\n",
    "x + x**2 + z**3 + ... + x*n\n",
    "    ----   ----         ---\n",
    "     2      3            n\n",
    "\n",
    "and calculate its value at a certain value of x.\n",
    "'''\n",
    "from sympy import Symbol, pprint, init_printing\n",
    "\n",
    "def print_series(n):\n",
    "    #initialize printing sysytem with reverse order\n",
    "    init_printing(order='rev-lex')\n",
    "    x = Symbol('x')\n",
    "    series = x\n",
    "    \n",
    "    for i in range(2, n+1):\n",
    "        series = series + (x**i)/i\n",
    "    \n",
    "    pprint(series)\n",
    " \n",
    "if __name__ == '__main__':\n",
    "    n = input('Enter the number of terms you want in the series: ')\n",
    "    print_series(int(n))"
   ]
  },
  {
   "cell_type": "markdown",
   "metadata": {
    "collapsed": true
   },
   "source": [
    "### 4.2.3 値に代入する"
   ]
  },
  {
   "cell_type": "code",
   "execution_count": 4,
   "metadata": {
    "collapsed": false
   },
   "outputs": [
    {
     "data": {
      "text/plain": [
       "x**2 + 2*x*y + y**2"
      ]
     },
     "execution_count": 4,
     "metadata": {},
     "output_type": "execute_result"
    }
   ],
   "source": [
    "from sympy import Symbol\n",
    "\n",
    "x = Symbol('x')\n",
    "y = Symbol('y')\n",
    "\n",
    "x**2 + x*y + x*y + y**2"
   ]
  },
  {
   "cell_type": "code",
   "execution_count": 8,
   "metadata": {
    "collapsed": false
   },
   "outputs": [
    {
     "name": "stdout",
     "output_type": "stream",
     "text": [
      "9\n"
     ]
    }
   ],
   "source": [
    "x = Symbol('x')\n",
    "y = Symbol('y')\n",
    "\n",
    "expr = x**2 + x*y + x*y + y**2\n",
    "res = expr.subs({x: 1, y: 2})\n",
    "\n",
    "print(res)"
   ]
  },
  {
   "cell_type": "code",
   "execution_count": 10,
   "metadata": {
    "collapsed": false
   },
   "outputs": [
    {
     "data": {
      "text/plain": [
       "y**2 + 2*y*(-y + 1) + (-y + 1)**2"
      ]
     },
     "execution_count": 10,
     "metadata": {},
     "output_type": "execute_result"
    }
   ],
   "source": [
    "expr.subs({x: 1-y})"
   ]
  },
  {
   "cell_type": "code",
   "execution_count": 14,
   "metadata": {
    "collapsed": false
   },
   "outputs": [
    {
     "data": {
      "text/plain": [
       "1"
      ]
     },
     "execution_count": 14,
     "metadata": {},
     "output_type": "execute_result"
    }
   ],
   "source": [
    "from sympy import simplify\n",
    "\n",
    "expr_subs = expr.subs({x: 1-y})\n",
    "simplify(expr_subs)"
   ]
  },
  {
   "cell_type": "markdown",
   "metadata": {},
   "source": [
    "#### 4.2.3.1 級数の値を計算する"
   ]
  },
  {
   "cell_type": "code",
   "execution_count": 20,
   "metadata": {
    "collapsed": false
   },
   "outputs": [
    {
     "name": "stdout",
     "output_type": "stream",
     "text": [
      "Enter the number of terms you want in the series: 5\n",
      "Enter the value of x at which you want to evaluate the series: 1.2\n",
      "     2    3    4    5\n",
      "    x    x    x    x \n",
      "x + ── + ── + ── + ──\n",
      "    2    3    4    5 \n",
      "Value of the series at 1.2: 3.51206400000000\n"
     ]
    }
   ],
   "source": [
    "'''\n",
    "Print the series:\n",
    "\n",
    "x + x**2 + z**3 + ... + x*n\n",
    "    ----   ----         ---\n",
    "     2      3            n\n",
    "\n",
    "and calculate its value at a certain value of x.\n",
    "'''\n",
    "from sympy import Symbol, pprint, init_printing\n",
    "\n",
    "def print_series(n, x_value):\n",
    "    #initialize printing sysytem with reverse order\n",
    "    init_printing(order='rev-lex')\n",
    "    x = Symbol('x')\n",
    "    series = x\n",
    "    \n",
    "    for i in range(2, n+1):\n",
    "        series = series + (x**i)/i\n",
    "    \n",
    "    pprint(series)\n",
    "    \n",
    "    # evaluate the series at x_value\n",
    "    series_value = series.subs({x:x_value})\n",
    "    print('Value of the series at {0}: {1}'.format(x_value, series_value))\n",
    " \n",
    "if __name__ == '__main__':\n",
    "    n = input('Enter the number of terms you want in the series: ')\n",
    "    x_value = input('Enter the value of x at which you want to evaluate the series: ')\n",
    "    print_series(int(n), float(x_value))\n"
   ]
  },
  {
   "cell_type": "markdown",
   "metadata": {},
   "source": [
    "### 4.2.4 文字列を数式に変換する"
   ]
  },
  {
   "cell_type": "code",
   "execution_count": 26,
   "metadata": {
    "collapsed": false
   },
   "outputs": [
    {
     "name": "stdout",
     "output_type": "stream",
     "text": [
      "Enter a mathematical expression: x*y\n"
     ]
    },
    {
     "data": {
      "image/png": "[encoded data removed]",
      "text/latex": [
       "$$2 x y$$"
      ],
      "text/plain": [
       "2⋅x⋅y"
      ]
     },
     "execution_count": 26,
     "metadata": {},
     "output_type": "execute_result"
    }
   ],
   "source": [
    "from sympy import sympify\n",
    "\n",
    "expr = input('Enter a mathematical expression: ')\n",
    "expr = sympify(expr)\n",
    "\n",
    "2*expr"
   ]
  },
  {
   "cell_type": "code",
   "execution_count": null,
   "metadata": {
    "collapsed": true
   },
   "outputs": [],
   "source": [
    "from sympy import sympify\n",
    "from sympyfy.core.sympify import SympifyError\n",
    "\n",
    "expr = input('Enter a mathematical expression: ')\n",
    "try:\n",
    "    expr = sympify(expr)\n",
    "except SympifyError:\n",
    "    print('invalid input')\n",
    "\n",
    "2*expr"
   ]
  },
  {
   "cell_type": "markdown",
   "metadata": {},
   "source": [
    "#### 4.2.4.1 数式乗算器"
   ]
  },
  {
   "cell_type": "code",
   "execution_count": 1,
   "metadata": {
    "collapsed": false
   },
   "outputs": [
    {
     "name": "stdout",
     "output_type": "stream",
     "text": [
      "Enter the first expression: 5\n",
      "Enter the second expression: 3\n",
      "15\n"
     ]
    }
   ],
   "source": [
    "\n",
    "'''\n",
    "Product of two expressions\n",
    "'''\n",
    "\n",
    "from sympy import expand, sympify\n",
    "from sympy.core.sympify import SympifyError\n",
    "def product(expr1, expr2):\n",
    "    prod = expand(expr1*expr2)\n",
    "    print(prod)\n",
    "\n",
    "if __name__=='__main__':\n",
    "    expr1 = input('Enter the first expression: ')\n",
    "    expr2 = input('Enter the second expression: ')\n",
    "    try:\n",
    "        expr1 = sympify(expr1)\n",
    "        expr2 = sympify(expr2)\n",
    "    except SympifyError:\n",
    "        print('Invalid input')\n",
    "    else:\n",
    "        product(expr1, expr2)"
   ]
  },
  {
   "cell_type": "markdown",
   "metadata": {},
   "source": [
    "## 4.3 方程式を解く"
   ]
  },
  {
   "cell_type": "code",
   "execution_count": 4,
   "metadata": {
    "collapsed": false
   },
   "outputs": [
    {
     "data": {
      "text/plain": [
       "[12]"
      ]
     },
     "execution_count": 4,
     "metadata": {},
     "output_type": "execute_result"
    }
   ],
   "source": [
    "from sympy import Symbol, solve\n",
    "x = Symbol('x')\n",
    "expr = x - 5 - 7\n",
    "solve(expr)"
   ]
  },
  {
   "cell_type": "markdown",
   "metadata": {},
   "source": [
    "### 4.3.1 2次方程式を解く"
   ]
  },
  {
   "cell_type": "code",
   "execution_count": 5,
   "metadata": {
    "collapsed": false
   },
   "outputs": [
    {
     "data": {
      "text/plain": [
       "[{x: -4}, {x: -1}]"
      ]
     },
     "execution_count": 5,
     "metadata": {},
     "output_type": "execute_result"
    }
   ],
   "source": [
    "from sympy import Symbol, solve\n",
    "x = Symbol('x')\n",
    "expr = x**2 + 5*x + 4\n",
    "solve(expr, dict=True)"
   ]
  },
  {
   "cell_type": "code",
   "execution_count": 7,
   "metadata": {
    "collapsed": false
   },
   "outputs": [
    {
     "data": {
      "text/plain": [
       "[{x: -1/2 - sqrt(3)*I/2}, {x: -1/2 + sqrt(3)*I/2}]"
      ]
     },
     "execution_count": 7,
     "metadata": {},
     "output_type": "execute_result"
    }
   ],
   "source": [
    "x = Symbol('x')\n",
    "expr = x**2 + x + 1\n",
    "solve(expr, dict=True)"
   ]
  },
  {
   "cell_type": "markdown",
   "metadata": {},
   "source": [
    "### 4.3.2 1変数を他の変数について解く"
   ]
  },
  {
   "cell_type": "code",
   "execution_count": 10,
   "metadata": {
    "collapsed": false
   },
   "outputs": [
    {
     "data": {
      "text/plain": [
       "[{x: (-b + sqrt(-4*a*c + b**2))/(2*a)}, {x: -(b + sqrt(-4*a*c + b**2))/(2*a)}]"
      ]
     },
     "execution_count": 10,
     "metadata": {},
     "output_type": "execute_result"
    }
   ],
   "source": [
    "x = Symbol('x')\n",
    "a = Symbol('a')\n",
    "b = Symbol('b')\n",
    "c = Symbol('c')\n",
    "\n",
    "expr = a*x*x + b*x + c\n",
    "solve(expr, x, dict=True)"
   ]
  },
  {
   "cell_type": "code",
   "execution_count": 11,
   "metadata": {
    "collapsed": false
   },
   "outputs": [
    {
     "name": "stdout",
     "output_type": "stream",
     "text": [
      "⎡⎧           ______________⎫  ⎧    ⎛       ______________⎞ ⎫⎤\n",
      "⎢⎪          ╱            2 ⎪  ⎪    ⎜      ╱            2 ⎟ ⎪⎥\n",
      "⎢⎨   -u + ╲╱  2.0⋅a⋅s + u  ⎬  ⎨   -⎝u + ╲╱  2.0⋅a⋅s + u  ⎠ ⎬⎥\n",
      "⎢⎪t: ──────────────────────⎪, ⎪t: ─────────────────────────⎪⎥\n",
      "⎣⎩             a           ⎭  ⎩               a            ⎭⎦\n"
     ]
    }
   ],
   "source": [
    "from sympy import Symbol, solve, pprint\n",
    "\n",
    "s = Symbol('s')\n",
    "u = Symbol('u')\n",
    "t = Symbol('t')\n",
    "a = Symbol('a')\n",
    "\n",
    "expr = u*t + (1/2)*a*t*t - s\n",
    "t_expr = solve(expr, t, dict=True)\n",
    "pprint(t_expr)"
   ]
  },
  {
   "cell_type": "markdown",
   "metadata": {},
   "source": [
    "### 4.3.3 連立方程式を解く"
   ]
  },
  {
   "cell_type": "code",
   "execution_count": 14,
   "metadata": {
    "collapsed": false
   },
   "outputs": [
    {
     "data": {
      "text/plain": [
       "[{x: 24/5, y: -6/5}]"
      ]
     },
     "execution_count": 14,
     "metadata": {},
     "output_type": "execute_result"
    }
   ],
   "source": [
    "x = Symbol('x')\n",
    "y = Symbol('y')\n",
    "\n",
    "expr1 = 2*x + 3*y - 6\n",
    "expr2 = 3*x + 2*y - 12\n",
    "\n",
    "solve((expr1, expr2), dict=True)"
   ]
  },
  {
   "cell_type": "code",
   "execution_count": 20,
   "metadata": {
    "collapsed": false
   },
   "outputs": [
    {
     "name": "stdout",
     "output_type": "stream",
     "text": [
      "[{x: 24/5, y: -6/5}]\n",
      "{x: 24/5, y: -6/5}\n",
      "0\n",
      "0\n"
     ]
    }
   ],
   "source": [
    "soln = solve((expr1, expr2), dict=True)\n",
    "print(soln)\n",
    "soln = soln[0]\n",
    "print(soln)\n",
    "print(expr1.subs({x: soln[x], y: soln[y]}))\n",
    "print(expr2.subs({x: soln[x], y: soln[y]}))"
   ]
  },
  {
   "cell_type": "markdown",
   "metadata": {
    "collapsed": true
   },
   "source": [
    "## 4.4 SymPyを使ってプロットする"
   ]
  },
  {
   "cell_type": "code",
   "execution_count": 1,
   "metadata": {
    "collapsed": false
   },
   "outputs": [
    {
     "data": {
      "image/png": "[encoded data removed]",
      "text/plain": [
       "<matplotlib.figure.Figure at 0x1040bd3c8>"
      ]
     },
     "metadata": {},
     "output_type": "display_data"
    },
    {
     "data": {
      "text/plain": [
       "<sympy.plotting.plot.Plot at 0x104d7a978>"
      ]
     },
     "execution_count": 1,
     "metadata": {},
     "output_type": "execute_result"
    }
   ],
   "source": [
    "from sympy.plotting import plot\n",
    "from sympy import Symbol\n",
    "\n",
    "x = Symbol('x')\n",
    "plot(2*x+3)"
   ]
  },
  {
   "cell_type": "code",
   "execution_count": 2,
   "metadata": {
    "collapsed": false
   },
   "outputs": [
    {
     "data": {
      "image/png": "[encoded data removed]",
      "text/plain": [
       "<matplotlib.figure.Figure at 0x1065f19b0>"
      ]
     },
     "metadata": {},
     "output_type": "display_data"
    },
    {
     "data": {
      "text/plain": [
       "<sympy.plotting.plot.Plot at 0x10402b748>"
      ]
     },
     "execution_count": 2,
     "metadata": {},
     "output_type": "execute_result"
    }
   ],
   "source": [
    "plot((2*x+3), (x, -5, 5))"
   ]
  },
  {
   "cell_type": "code",
   "execution_count": 3,
   "metadata": {
    "collapsed": false
   },
   "outputs": [
    {
     "data": {
      "image/png": "[encoded data removed]",
      "text/plain": [
       "<matplotlib.figure.Figure at 0x106635438>"
      ]
     },
     "metadata": {},
     "output_type": "display_data"
    },
    {
     "data": {
      "text/plain": [
       "<sympy.plotting.plot.Plot at 0x10663d748>"
      ]
     },
     "execution_count": 3,
     "metadata": {},
     "output_type": "execute_result"
    }
   ],
   "source": [
    "plot(2*x+3, (x, -5, 5), title='A Line', xlabel='x', ylabel='2x+3')"
   ]
  },
  {
   "cell_type": "markdown",
   "metadata": {},
   "source": [
    "### 4.4.1 ユーザが入力した式をプロットする"
   ]
  },
  {
   "cell_type": "code",
   "execution_count": 8,
   "metadata": {
    "collapsed": false
   },
   "outputs": [
    {
     "name": "stdout",
     "output_type": "stream",
     "text": [
      "Enter an expression2*x + 3*y - 6\n",
      "2*x + 3*y - 6\n"
     ]
    },
    {
     "data": {
      "text/plain": [
       "[-2*x/3 + 2]"
      ]
     },
     "execution_count": 8,
     "metadata": {},
     "output_type": "execute_result"
    }
   ],
   "source": [
    "from sympy import sympify, solve\n",
    "\n",
    "expr = input('Enter an expression')\n",
    "\n",
    "expr = sympify(expr)\n",
    "y = Symbol('y')\n",
    "solve(expr, y)"
   ]
  },
  {
   "cell_type": "code",
   "execution_count": 9,
   "metadata": {
    "collapsed": false
   },
   "outputs": [
    {
     "name": "stdout",
     "output_type": "stream",
     "text": [
      "Enter an expression2*x + 3*y - 6\n"
     ]
    },
    {
     "data": {
      "text/plain": [
       "-2*x/3 + 2"
      ]
     },
     "execution_count": 9,
     "metadata": {},
     "output_type": "execute_result"
    }
   ],
   "source": [
    "expr = input('Enter an expression')\n",
    "\n",
    "expr = sympify(expr)\n",
    "y = Symbol('y')\n",
    "solutions = solve(expr, y)\n",
    "solutions[0]"
   ]
  },
  {
   "cell_type": "code",
   "execution_count": 12,
   "metadata": {
    "collapsed": false
   },
   "outputs": [
    {
     "name": "stdout",
     "output_type": "stream",
     "text": [
      "Enter your expression in terms of x and y:2*x + 3*y - 6\n"
     ]
    },
    {
     "data": {
      "image/png": "[encoded data removed]",
      "text/plain": [
       "<matplotlib.figure.Figure at 0x106522470>"
      ]
     },
     "metadata": {},
     "output_type": "display_data"
    }
   ],
   "source": [
    "'''\n",
    "Plot the graph of an input expression\n",
    "'''\n",
    "\n",
    "from sympy import Symbol, sympify, solve\n",
    "from sympy.plotting import plot\n",
    "\n",
    "def plot_expression(expr):\n",
    "    y = Symbol('y')\n",
    "    solutions = solve(expr, y)\n",
    "    expr_y = solutions[0]\n",
    "    plot(expr_y)\n",
    "    \n",
    "if __name__ == '__main__':\n",
    "    expr = input('Enter your expression in terms of x and y:')\n",
    "    try:\n",
    "        expr = sympify(expr)\n",
    "    except SympifyError:\n",
    "        print('Invalid input')\n",
    "    else:\n",
    "        plot_expression(expr)"
   ]
  },
  {
   "cell_type": "markdown",
   "metadata": {},
   "source": [
    "### 4.4.2 複数の関数をプロットする"
   ]
  },
  {
   "cell_type": "code",
   "execution_count": 13,
   "metadata": {
    "collapsed": false
   },
   "outputs": [
    {
     "data": {
      "image/png": "[encoded data removed]",
      "text/plain": [
       "<matplotlib.figure.Figure at 0x106876c18>"
      ]
     },
     "metadata": {},
     "output_type": "display_data"
    },
    {
     "data": {
      "text/plain": [
       "<sympy.plotting.plot.Plot at 0x106876a90>"
      ]
     },
     "execution_count": 13,
     "metadata": {},
     "output_type": "execute_result"
    }
   ],
   "source": [
    "from sympy.plotting import plot\n",
    "from sympy import Symbol\n",
    "x = Symbol('x')\n",
    "plot(2*x+3, 3*x+1)"
   ]
  },
  {
   "cell_type": "code",
   "execution_count": 16,
   "metadata": {
    "collapsed": false
   },
   "outputs": [
    {
     "data": {
      "image/png": "[encoded data removed]",
      "text/plain": [
       "<matplotlib.figure.Figure at 0x106b2c3c8>"
      ]
     },
     "metadata": {},
     "output_type": "display_data"
    }
   ],
   "source": [
    "from sympy.plotting import plot\n",
    "from sympy import Symbol\n",
    "x = Symbol('x')\n",
    "p = plot(2*x+3, 3*x+1, legend=True, show=False)\n",
    "p[0].line_color = 'b'\n",
    "p[1].line_color = 'r'\n",
    "p.show()"
   ]
  },
  {
   "cell_type": "code",
   "execution_count": null,
   "metadata": {
    "collapsed": true
   },
   "outputs": [],
   "source": []
  }
 ],
 "metadata": {
  "kernelspec": {
   "display_name": "Python 3",
   "language": "python",
   "name": "python3"
  },
  "language_info": {
   "codemirror_mode": {
    "name": "ipython",
    "version": 3
   },
   "file_extension": ".py",
   "mimetype": "text/x-python",
   "name": "python",
   "nbconvert_exporter": "python",
   "pygments_lexer": "ipython3",
   "version": "3.6.0"
  }
 },
 "nbformat": 4,
 "nbformat_minor": 2
}
